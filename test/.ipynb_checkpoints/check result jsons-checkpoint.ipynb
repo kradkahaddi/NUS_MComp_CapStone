{
 "cells": [
  {
   "cell_type": "code",
   "execution_count": 1,
   "id": "e5b08b5e",
   "metadata": {},
   "outputs": [],
   "source": [
    "import pandas as pd"
   ]
  },
  {
   "cell_type": "code",
   "execution_count": 2,
   "id": "d4a0c5e9",
   "metadata": {},
   "outputs": [],
   "source": [
    "import json"
   ]
  },
  {
   "cell_type": "markdown",
   "id": "6bcc57b6",
   "metadata": {},
   "source": [
    "## Reading manual"
   ]
  },
  {
   "cell_type": "code",
   "execution_count": 7,
   "id": "612d8d24",
   "metadata": {},
   "outputs": [],
   "source": [
    "manual = pd.read_csv('testlist.csv')"
   ]
  },
  {
   "cell_type": "code",
   "execution_count": 20,
   "id": "a480f17c",
   "metadata": {},
   "outputs": [
    {
     "data": {
      "text/plain": [
       "Index(['site', 'cookie banner', 'accept', 'necessary', 'reject', 'custom'], dtype='object')"
      ]
     },
     "execution_count": 20,
     "metadata": {},
     "output_type": "execute_result"
    }
   ],
   "source": [
    "manual.columns"
   ]
  },
  {
   "cell_type": "code",
   "execution_count": 9,
   "id": "a2bb6ec5",
   "metadata": {},
   "outputs": [
    {
     "name": "stdout",
     "output_type": "stream",
     "text": [
      "['no' 'yes']\n",
      "['no' 'yes']\n",
      "['no' 'yes']\n",
      "['no' 'yes']\n"
     ]
    }
   ],
   "source": [
    "for col in manual.columns[2:]:\n",
    "    print(manual[col].unique())"
   ]
  },
  {
   "cell_type": "markdown",
   "id": "0b815a85",
   "metadata": {},
   "source": [
    "## Check Necessary policy results"
   ]
  },
  {
   "cell_type": "code",
   "execution_count": 17,
   "id": "d8b9669b",
   "metadata": {},
   "outputs": [],
   "source": [
    "df = pd.read_json('necess_policy_manual_test.json')"
   ]
  },
  {
   "cell_type": "code",
   "execution_count": 18,
   "id": "e356132b",
   "metadata": {},
   "outputs": [
    {
     "data": {
      "text/plain": [
       "59"
      ]
     },
     "execution_count": 18,
     "metadata": {},
     "output_type": "execute_result"
    }
   ],
   "source": [
    "df.T.shape[0]"
   ]
  },
  {
   "cell_type": "code",
   "execution_count": 22,
   "id": "7d95973b",
   "metadata": {},
   "outputs": [
    {
     "data": {
      "text/plain": [
       "49"
      ]
     },
     "execution_count": 22,
     "metadata": {},
     "output_type": "execute_result"
    }
   ],
   "source": [
    "(manual.necessary=='yes').sum()"
   ]
  },
  {
   "cell_type": "markdown",
   "id": "bd847442",
   "metadata": {},
   "source": [
    "## Check Reject policy results"
   ]
  },
  {
   "cell_type": "code",
   "execution_count": 23,
   "id": "fd061143",
   "metadata": {},
   "outputs": [],
   "source": [
    "df = pd.read_json('reject_policy_manual_test.json')"
   ]
  },
  {
   "cell_type": "code",
   "execution_count": 24,
   "id": "b9dcc964",
   "metadata": {},
   "outputs": [
    {
     "data": {
      "text/plain": [
       "57"
      ]
     },
     "execution_count": 24,
     "metadata": {},
     "output_type": "execute_result"
    }
   ],
   "source": [
    "df.T.shape[0]"
   ]
  },
  {
   "cell_type": "code",
   "execution_count": 25,
   "id": "dcea545b",
   "metadata": {},
   "outputs": [
    {
     "data": {
      "text/plain": [
       "49"
      ]
     },
     "execution_count": 25,
     "metadata": {},
     "output_type": "execute_result"
    }
   ],
   "source": [
    "(manual.reject=='yes').sum()"
   ]
  },
  {
   "cell_type": "markdown",
   "id": "2dee83dc",
   "metadata": {},
   "source": [
    "## Check Custom policy results"
   ]
  },
  {
   "cell_type": "code",
   "execution_count": 26,
   "id": "ec432224",
   "metadata": {},
   "outputs": [],
   "source": [
    "df = pd.read_json('custom_policy_manual_test.json')"
   ]
  },
  {
   "cell_type": "code",
   "execution_count": 27,
   "id": "2a07526a",
   "metadata": {},
   "outputs": [
    {
     "data": {
      "text/plain": [
       "53"
      ]
     },
     "execution_count": 27,
     "metadata": {},
     "output_type": "execute_result"
    }
   ],
   "source": [
    "df.T.shape[0]"
   ]
  },
  {
   "cell_type": "code",
   "execution_count": 28,
   "id": "ca0ab89e",
   "metadata": {},
   "outputs": [
    {
     "data": {
      "text/plain": [
       "44"
      ]
     },
     "execution_count": 28,
     "metadata": {},
     "output_type": "execute_result"
    }
   ],
   "source": [
    "(manual.custom=='yes').sum()"
   ]
  }
 ],
 "metadata": {
  "kernelspec": {
   "display_name": "Python 3 (ipykernel)",
   "language": "python",
   "name": "python3"
  },
  "language_info": {
   "codemirror_mode": {
    "name": "ipython",
    "version": 3
   },
   "file_extension": ".py",
   "mimetype": "text/x-python",
   "name": "python",
   "nbconvert_exporter": "python",
   "pygments_lexer": "ipython3",
   "version": "3.10.5"
  }
 },
 "nbformat": 4,
 "nbformat_minor": 5
}
