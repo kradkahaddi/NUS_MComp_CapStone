{
 "cells": [
  {
   "cell_type": "code",
   "execution_count": 1,
   "id": "e5b08b5e",
   "metadata": {},
   "outputs": [],
   "source": [
    "import pandas as pd"
   ]
  },
  {
   "cell_type": "code",
   "execution_count": 2,
   "id": "d4a0c5e9",
   "metadata": {},
   "outputs": [],
   "source": [
    "import json"
   ]
  },
  {
   "cell_type": "markdown",
   "id": "3fd6b065",
   "metadata": {},
   "source": [
    "## Reading manual"
   ]
  },
  {
   "cell_type": "code",
   "execution_count": 7,
   "id": "b0032a66",
   "metadata": {},
   "outputs": [],
   "source": [
    "manual = pd.read_csv('testlist.csv')"
   ]
  },
  {
   "cell_type": "code",
   "execution_count": 20,
   "id": "cec43f7b",
   "metadata": {},
   "outputs": [
    {
     "data": {
      "text/plain": [
       "Index(['site', 'cookie banner', 'accept', 'necessary', 'reject', 'custom'], dtype='object')"
      ]
     },
     "execution_count": 20,
     "metadata": {},
     "output_type": "execute_result"
    }
   ],
   "source": [
    "manual.columns"
   ]
  },
  {
   "cell_type": "code",
   "execution_count": 9,
   "id": "c1379dd9",
   "metadata": {},
   "outputs": [
    {
     "name": "stdout",
     "output_type": "stream",
     "text": [
      "['no' 'yes']\n",
      "['no' 'yes']\n",
      "['no' 'yes']\n",
      "['no' 'yes']\n"
     ]
    }
   ],
   "source": [
    "for col in manual.columns[2:]:\n",
    "    print(manual[col].unique())"
   ]
  },
  {
   "cell_type": "markdown",
   "id": "6f88b660",
   "metadata": {},
   "source": [
    "## Check Necessary policy results"
   ]
  },
  {
   "cell_type": "code",
   "execution_count": 29,
   "id": "d8b9669b",
   "metadata": {},
   "outputs": [],
   "source": [
    "df = pd.read_json('accept_policy_manual_test.json')"
   ]
  },
  {
   "cell_type": "code",
   "execution_count": 30,
   "id": "e356132b",
   "metadata": {},
   "outputs": [
    {
     "data": {
      "text/plain": [
       "64"
      ]
     },
     "execution_count": 30,
     "metadata": {},
     "output_type": "execute_result"
    }
   ],
   "source": [
    "df.T.shape[0]"
   ]
  },
  {
   "cell_type": "code",
   "execution_count": 31,
   "id": "f0800266",
   "metadata": {},
   "outputs": [
    {
     "data": {
      "text/plain": [
       "55"
      ]
     },
     "execution_count": 31,
     "metadata": {},
     "output_type": "execute_result"
    }
   ],
   "source": [
    "(manual.accept=='yes').sum()"
   ]
  },
  {
   "cell_type": "markdown",
   "id": "532de6d9",
   "metadata": {},
   "source": [
    "## Check Necessary policy results"
   ]
  },
  {
   "cell_type": "code",
   "execution_count": 17,
   "id": "8bd5cde5",
   "metadata": {},
   "outputs": [],
   "source": [
    "df = pd.read_json('necess_policy_manual_test.json')"
   ]
  },
  {
   "cell_type": "code",
   "execution_count": 18,
   "id": "fd639755",
   "metadata": {},
   "outputs": [
    {
     "data": {
      "text/plain": [
       "59"
      ]
     },
     "execution_count": 18,
     "metadata": {},
     "output_type": "execute_result"
    }
   ],
   "source": [
    "df.T.shape[0]"
   ]
  },
  {
   "cell_type": "code",
   "execution_count": 22,
   "id": "e337eb57",
   "metadata": {},
   "outputs": [
    {
     "data": {
      "text/plain": [
       "49"
      ]
     },
     "execution_count": 22,
     "metadata": {},
     "output_type": "execute_result"
    }
   ],
   "source": [
    "(manual.necessary=='yes').sum()"
   ]
  },
  {
   "cell_type": "markdown",
   "id": "25c3c7b8",
   "metadata": {},
   "source": [
    "## Check Reject policy results"
   ]
  },
  {
   "cell_type": "code",
   "execution_count": 23,
   "id": "9b20ed4a",
   "metadata": {},
   "outputs": [],
   "source": [
    "df = pd.read_json('reject_policy_manual_test.json')"
   ]
  },
  {
   "cell_type": "code",
   "execution_count": 24,
   "id": "c2539826",
   "metadata": {},
   "outputs": [
    {
     "data": {
      "text/plain": [
       "57"
      ]
     },
     "execution_count": 24,
     "metadata": {},
     "output_type": "execute_result"
    }
   ],
   "source": [
    "df.T.shape[0]"
   ]
  },
  {
   "cell_type": "code",
   "execution_count": 25,
   "id": "12a7b20f",
   "metadata": {},
   "outputs": [
    {
     "data": {
      "text/plain": [
       "49"
      ]
     },
     "execution_count": 25,
     "metadata": {},
     "output_type": "execute_result"
    }
   ],
   "source": [
    "(manual.reject=='yes').sum()"
   ]
  },
  {
   "cell_type": "markdown",
   "id": "fab9e008",
   "metadata": {},
   "source": [
    "## Check Custom policy results"
   ]
  },
  {
   "cell_type": "code",
   "execution_count": 26,
   "id": "f786e448",
   "metadata": {},
   "outputs": [],
   "source": [
    "df = pd.read_json('custom_policy_manual_test.json')"
   ]
  },
  {
   "cell_type": "code",
   "execution_count": 27,
   "id": "eb91554e",
   "metadata": {},
   "outputs": [
    {
     "data": {
      "text/plain": [
       "53"
      ]
     },
     "execution_count": 27,
     "metadata": {},
     "output_type": "execute_result"
    }
   ],
   "source": [
    "df.T.shape[0]"
   ]
  },
  {
   "cell_type": "code",
   "execution_count": 28,
   "id": "12e590e6",
   "metadata": {},
   "outputs": [
    {
     "data": {
      "text/plain": [
       "44"
      ]
     },
     "execution_count": 28,
     "metadata": {},
     "output_type": "execute_result"
    }
   ],
   "source": [
    "(manual.custom=='yes').sum()"
   ]
  }
 ],
 "metadata": {
  "kernelspec": {
   "display_name": "Python 3 (ipykernel)",
   "language": "python",
   "name": "python3"
  },
  "language_info": {
   "codemirror_mode": {
    "name": "ipython",
    "version": 3
   },
   "file_extension": ".py",
   "mimetype": "text/x-python",
   "name": "python",
   "nbconvert_exporter": "python",
   "pygments_lexer": "ipython3",
   "version": "3.10.5"
  }
 },
 "nbformat": 4,
 "nbformat_minor": 5
}
